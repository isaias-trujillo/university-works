{
 "cells": [
  {
   "cell_type": "code",
   "execution_count": 19,
   "metadata": {
    "collapsed": true
   },
   "outputs": [],
   "source": [
    "import numpy\n",
    "import pandas\n",
    "import seaborn\n",
    "from imblearn.over_sampling import SMOTE\n",
    "from matplotlib import pyplot\n",
    "from sklearn.metrics import accuracy_score, confusion_matrix\n",
    "from sklearn.model_selection import train_test_split\n",
    "from sklearn.naive_bayes import GaussianNB"
   ]
  },
  {
   "cell_type": "code",
   "execution_count": 20,
   "outputs": [],
   "source": [
    "# Setting column names\n",
    "names = (\n",
    "    'target', 'age', 'menopause', 'tumor_size', 'inv_nodes',\n",
    "    'node_caps', 'degree_of_malign', 'breast', 'breast_quadrant', 'irradiation'\n",
    ")"
   ],
   "metadata": {
    "collapsed": false
   }
  },
  {
   "cell_type": "code",
   "execution_count": 21,
   "outputs": [
    {
     "data": {
      "text/plain": "                 target    age menopause tumor_size inv_nodes node_caps  \\\n0  no-recurrence-events  30-39   premeno      30-34       0-2        no   \n1  no-recurrence-events  40-49   premeno      20-24       0-2        no   \n2  no-recurrence-events  40-49   premeno      20-24       0-2        no   \n3  no-recurrence-events  60-69      ge40      15-19       0-2        no   \n4  no-recurrence-events  40-49   premeno        0-4       0-2        no   \n\n   degree_of_malign breast breast_quadrant irradiation  \n0                 3   left        left_low          no  \n1                 2  right        right_up          no  \n2                 2   left        left_low          no  \n3                 2  right         left_up          no  \n4                 2  right       right_low          no  ",
      "text/html": "<div>\n<style scoped>\n    .dataframe tbody tr th:only-of-type {\n        vertical-align: middle;\n    }\n\n    .dataframe tbody tr th {\n        vertical-align: top;\n    }\n\n    .dataframe thead th {\n        text-align: right;\n    }\n</style>\n<table border=\"1\" class=\"dataframe\">\n  <thead>\n    <tr style=\"text-align: right;\">\n      <th></th>\n      <th>target</th>\n      <th>age</th>\n      <th>menopause</th>\n      <th>tumor_size</th>\n      <th>inv_nodes</th>\n      <th>node_caps</th>\n      <th>degree_of_malign</th>\n      <th>breast</th>\n      <th>breast_quadrant</th>\n      <th>irradiation</th>\n    </tr>\n  </thead>\n  <tbody>\n    <tr>\n      <th>0</th>\n      <td>no-recurrence-events</td>\n      <td>30-39</td>\n      <td>premeno</td>\n      <td>30-34</td>\n      <td>0-2</td>\n      <td>no</td>\n      <td>3</td>\n      <td>left</td>\n      <td>left_low</td>\n      <td>no</td>\n    </tr>\n    <tr>\n      <th>1</th>\n      <td>no-recurrence-events</td>\n      <td>40-49</td>\n      <td>premeno</td>\n      <td>20-24</td>\n      <td>0-2</td>\n      <td>no</td>\n      <td>2</td>\n      <td>right</td>\n      <td>right_up</td>\n      <td>no</td>\n    </tr>\n    <tr>\n      <th>2</th>\n      <td>no-recurrence-events</td>\n      <td>40-49</td>\n      <td>premeno</td>\n      <td>20-24</td>\n      <td>0-2</td>\n      <td>no</td>\n      <td>2</td>\n      <td>left</td>\n      <td>left_low</td>\n      <td>no</td>\n    </tr>\n    <tr>\n      <th>3</th>\n      <td>no-recurrence-events</td>\n      <td>60-69</td>\n      <td>ge40</td>\n      <td>15-19</td>\n      <td>0-2</td>\n      <td>no</td>\n      <td>2</td>\n      <td>right</td>\n      <td>left_up</td>\n      <td>no</td>\n    </tr>\n    <tr>\n      <th>4</th>\n      <td>no-recurrence-events</td>\n      <td>40-49</td>\n      <td>premeno</td>\n      <td>0-4</td>\n      <td>0-2</td>\n      <td>no</td>\n      <td>2</td>\n      <td>right</td>\n      <td>right_low</td>\n      <td>no</td>\n    </tr>\n  </tbody>\n</table>\n</div>"
     },
     "execution_count": 21,
     "metadata": {},
     "output_type": "execute_result"
    }
   ],
   "source": [
    "# Init the dataframe from csv reader using txt file\n",
    "df = pandas.read_csv('breast-cancer.txt', quotechar='\"', sep=',', header=None, names=names)\n",
    "df.head()"
   ],
   "metadata": {
    "collapsed": false
   }
  },
  {
   "cell_type": "code",
   "execution_count": 22,
   "outputs": [
    {
     "name": "stdout",
     "output_type": "stream",
     "text": [
      "target : ['no-recurrence-events' 'recurrence-events']\n",
      "age : ['30-39' '40-49' '60-69' '50-59' '70-79' '20-29']\n",
      "menopause : ['premeno' 'ge40' 'lt40']\n",
      "tumor_size : ['30-34' '20-24' '15-19' '0-4' '25-29' '50-54' '10-14' '40-44' '35-39'\n",
      " '5-9' '45-49']\n",
      "inv_nodes : ['0-2' '6-8' '9-11' '3-5' '15-17' '12-14' '24-26']\n",
      "node_caps : ['no' 'yes' '?']\n",
      "degree_of_malign : [3 2 1]\n",
      "breast : ['left' 'right']\n",
      "breast_quadrant : ['left_low' 'right_up' 'left_up' 'right_low' 'central' '?']\n",
      "irradiation : ['no' 'yes']\n"
     ]
    }
   ],
   "source": [
    "# Checks the unique values in each column for outliers\n",
    "for (column, data) in df.items():\n",
    "    print(column, \":\", data.unique())"
   ],
   "metadata": {
    "collapsed": false
   }
  },
  {
   "cell_type": "code",
   "execution_count": 23,
   "outputs": [
    {
     "name": "stdout",
     "output_type": "stream",
     "text": [
      "{'target': ['no-recurrence-events', 'recurrence-events'], 'age': ['30-39', '40-49', '60-69', '50-59', '70-79', '20-29'], 'menopause': ['premeno', 'ge40', 'lt40'], 'tumor_size': ['30-34', '20-24', '15-19', '0-4', '25-29', '50-54', '10-14', '40-44', '35-39', '5-9', '45-49'], 'inv_nodes': ['0-2', '6-8', '9-11', '3-5', '15-17', '12-14', '24-26'], 'node_caps': ['no', 'yes', '?'], 'degree_of_malign': [3, 2, 1], 'breast': ['left', 'right'], 'breast_quadrant': ['left_low', 'right_up', 'left_up', 'right_low', 'central', '?'], 'irradiation': ['no', 'yes']}\n"
     ]
    }
   ],
   "source": [
    "# define outlier as criteria\n",
    "criteria = '?'\n",
    "# save uniques value into dictionary => column_name (str) : values (list)\n",
    "uniques = {}\n",
    "# column = column name, data = values (rows)\n",
    "for (column, data) in df.items():\n",
    "    uniques[column] = data.unique().tolist()\n",
    "print(uniques)"
   ],
   "metadata": {
    "collapsed": false
   }
  },
  {
   "cell_type": "code",
   "execution_count": 24,
   "outputs": [],
   "source": [
    "# replace outlier '?' by nan\n",
    "\n",
    "# column = column name, data = values (rows)\n",
    "for column, _ in uniques.items():\n",
    "    df[column].mask(df[column] == '?', numpy.nan, inplace=True)"
   ],
   "metadata": {
    "collapsed": false
   }
  },
  {
   "cell_type": "code",
   "execution_count": 25,
   "outputs": [
    {
     "data": {
      "text/plain": "                 target    age menopause tumor_size inv_nodes node_caps  \\\n0  no-recurrence-events  30-39   premeno      30-34       0-2        no   \n1  no-recurrence-events  40-49   premeno      20-24       0-2        no   \n2  no-recurrence-events  40-49   premeno      20-24       0-2        no   \n3  no-recurrence-events  60-69      ge40      15-19       0-2        no   \n4  no-recurrence-events  40-49   premeno        0-4       0-2        no   \n\n   degree_of_malign breast breast_quadrant irradiation  \n0                 3   left        left_low          no  \n1                 2  right        right_up          no  \n2                 2   left        left_low          no  \n3                 2  right         left_up          no  \n4                 2  right       right_low          no  ",
      "text/html": "<div>\n<style scoped>\n    .dataframe tbody tr th:only-of-type {\n        vertical-align: middle;\n    }\n\n    .dataframe tbody tr th {\n        vertical-align: top;\n    }\n\n    .dataframe thead th {\n        text-align: right;\n    }\n</style>\n<table border=\"1\" class=\"dataframe\">\n  <thead>\n    <tr style=\"text-align: right;\">\n      <th></th>\n      <th>target</th>\n      <th>age</th>\n      <th>menopause</th>\n      <th>tumor_size</th>\n      <th>inv_nodes</th>\n      <th>node_caps</th>\n      <th>degree_of_malign</th>\n      <th>breast</th>\n      <th>breast_quadrant</th>\n      <th>irradiation</th>\n    </tr>\n  </thead>\n  <tbody>\n    <tr>\n      <th>0</th>\n      <td>no-recurrence-events</td>\n      <td>30-39</td>\n      <td>premeno</td>\n      <td>30-34</td>\n      <td>0-2</td>\n      <td>no</td>\n      <td>3</td>\n      <td>left</td>\n      <td>left_low</td>\n      <td>no</td>\n    </tr>\n    <tr>\n      <th>1</th>\n      <td>no-recurrence-events</td>\n      <td>40-49</td>\n      <td>premeno</td>\n      <td>20-24</td>\n      <td>0-2</td>\n      <td>no</td>\n      <td>2</td>\n      <td>right</td>\n      <td>right_up</td>\n      <td>no</td>\n    </tr>\n    <tr>\n      <th>2</th>\n      <td>no-recurrence-events</td>\n      <td>40-49</td>\n      <td>premeno</td>\n      <td>20-24</td>\n      <td>0-2</td>\n      <td>no</td>\n      <td>2</td>\n      <td>left</td>\n      <td>left_low</td>\n      <td>no</td>\n    </tr>\n    <tr>\n      <th>3</th>\n      <td>no-recurrence-events</td>\n      <td>60-69</td>\n      <td>ge40</td>\n      <td>15-19</td>\n      <td>0-2</td>\n      <td>no</td>\n      <td>2</td>\n      <td>right</td>\n      <td>left_up</td>\n      <td>no</td>\n    </tr>\n    <tr>\n      <th>4</th>\n      <td>no-recurrence-events</td>\n      <td>40-49</td>\n      <td>premeno</td>\n      <td>0-4</td>\n      <td>0-2</td>\n      <td>no</td>\n      <td>2</td>\n      <td>right</td>\n      <td>right_low</td>\n      <td>no</td>\n    </tr>\n  </tbody>\n</table>\n</div>"
     },
     "execution_count": 25,
     "metadata": {},
     "output_type": "execute_result"
    }
   ],
   "source": [
    "# Remove missing values\n",
    "df = df.dropna()\n",
    "df.head()"
   ],
   "metadata": {
    "collapsed": false
   }
  },
  {
   "cell_type": "code",
   "execution_count": 26,
   "outputs": [
    {
     "name": "stdout",
     "output_type": "stream",
     "text": [
      "target : ['no-recurrence-events' 'recurrence-events']\n",
      "age : ['30-39' '40-49' '60-69' '50-59' '70-79' '20-29']\n",
      "menopause : ['premeno' 'ge40' 'lt40']\n",
      "tumor_size : ['30-34' '20-24' '15-19' '0-4' '25-29' '50-54' '10-14' '40-44' '35-39'\n",
      " '5-9' '45-49']\n",
      "inv_nodes : ['0-2' '6-8' '9-11' '3-5' '15-17' '12-14' '24-26']\n",
      "node_caps : ['no' 'yes']\n",
      "degree_of_malign : [3 2 1]\n",
      "breast : ['left' 'right']\n",
      "breast_quadrant : ['left_low' 'right_up' 'left_up' 'right_low' 'central']\n",
      "irradiation : ['no' 'yes']\n"
     ]
    }
   ],
   "source": [
    "# Checks the unique values in each column for outliers\n",
    "for (column, data) in df.items():\n",
    "    print(column, \":\", data.unique())"
   ],
   "metadata": {
    "collapsed": false
   }
  },
  {
   "cell_type": "code",
   "execution_count": 27,
   "outputs": [
    {
     "data": {
      "text/plain": "<Figure size 640x480 with 1 Axes>",
      "image/png": "[encoded data removed]"
     },
     "metadata": {},
     "output_type": "display_data"
    }
   ],
   "source": [
    "# 0 : no recurrence events\n",
    "# 1 : recurrence events\n",
    "seaborn.countplot(x=\"target\", data=df, palette=\"bwr\")\n",
    "pyplot.show()"
   ],
   "metadata": {
    "collapsed": false
   }
  },
  {
   "cell_type": "code",
   "execution_count": 28,
   "outputs": [
    {
     "data": {
      "text/plain": "   target  age  menopause  tumor_size  inv_nodes  node_caps  degree_of_malign  \\\n0       0    0          0           0          0          0                 3   \n1       0    1          0           1          0          0                 2   \n2       0    1          0           1          0          0                 2   \n3       0    2          1           2          0          0                 2   \n4       0    1          0           3          0          0                 2   \n\n   breast  breast_quadrant  irradiation  \n0       0                0            0  \n1       1                1            0  \n2       0                0            0  \n3       1                2            0  \n4       1                3            0  ",
      "text/html": "<div>\n<style scoped>\n    .dataframe tbody tr th:only-of-type {\n        vertical-align: middle;\n    }\n\n    .dataframe tbody tr th {\n        vertical-align: top;\n    }\n\n    .dataframe thead th {\n        text-align: right;\n    }\n</style>\n<table border=\"1\" class=\"dataframe\">\n  <thead>\n    <tr style=\"text-align: right;\">\n      <th></th>\n      <th>target</th>\n      <th>age</th>\n      <th>menopause</th>\n      <th>tumor_size</th>\n      <th>inv_nodes</th>\n      <th>node_caps</th>\n      <th>degree_of_malign</th>\n      <th>breast</th>\n      <th>breast_quadrant</th>\n      <th>irradiation</th>\n    </tr>\n  </thead>\n  <tbody>\n    <tr>\n      <th>0</th>\n      <td>0</td>\n      <td>0</td>\n      <td>0</td>\n      <td>0</td>\n      <td>0</td>\n      <td>0</td>\n      <td>3</td>\n      <td>0</td>\n      <td>0</td>\n      <td>0</td>\n    </tr>\n    <tr>\n      <th>1</th>\n      <td>0</td>\n      <td>1</td>\n      <td>0</td>\n      <td>1</td>\n      <td>0</td>\n      <td>0</td>\n      <td>2</td>\n      <td>1</td>\n      <td>1</td>\n      <td>0</td>\n    </tr>\n    <tr>\n      <th>2</th>\n      <td>0</td>\n      <td>1</td>\n      <td>0</td>\n      <td>1</td>\n      <td>0</td>\n      <td>0</td>\n      <td>2</td>\n      <td>0</td>\n      <td>0</td>\n      <td>0</td>\n    </tr>\n    <tr>\n      <th>3</th>\n      <td>0</td>\n      <td>2</td>\n      <td>1</td>\n      <td>2</td>\n      <td>0</td>\n      <td>0</td>\n      <td>2</td>\n      <td>1</td>\n      <td>2</td>\n      <td>0</td>\n    </tr>\n    <tr>\n      <th>4</th>\n      <td>0</td>\n      <td>1</td>\n      <td>0</td>\n      <td>3</td>\n      <td>0</td>\n      <td>0</td>\n      <td>2</td>\n      <td>1</td>\n      <td>3</td>\n      <td>0</td>\n    </tr>\n  </tbody>\n</table>\n</div>"
     },
     "execution_count": 28,
     "metadata": {},
     "output_type": "execute_result"
    }
   ],
   "source": [
    "numeric_df = df.copy()\n",
    "\n",
    "for column, data in df.items():\n",
    "    if not pandas.api.types.is_numeric_dtype(numeric_df[column]):\n",
    "        uniques = data.unique().tolist()\n",
    "        mapping = {value: index for index, value in enumerate(uniques)}\n",
    "        numeric_df[column] = numeric_df[column].map(mapping)\n",
    "\n",
    "numeric_df.head()"
   ],
   "metadata": {
    "collapsed": false
   }
  },
  {
   "cell_type": "code",
   "execution_count": 29,
   "outputs": [],
   "source": [
    "def split(_df: pandas.DataFrame, _column: str, test_size: float = 0.3):\n",
    "    # Declare feature vector and target variable\n",
    "    _X = numeric_df.drop([_column], axis=1)\n",
    "    _y = numeric_df[_column]\n",
    "    _X_train, _X_test, _y_train, _y_test = train_test_split(_X, _y, test_size=test_size, random_state=0)\n",
    "    return _X_train, _X_test, _y_train, _y_test"
   ],
   "metadata": {
    "collapsed": false
   }
  },
  {
   "cell_type": "code",
   "execution_count": 30,
   "outputs": [],
   "source": [
    "def naive_bayes(_df: pandas.DataFrame, _column: str, test_size: float = 0.3):\n",
    "    _X_train, _X_test, _y_train, _y_test = split(df, _column, test_size)\n",
    "    # check the shape of X_train and X_test\n",
    "    print(\"Shapes: \", \"x train\", _X_train.shape, \", \", \"x test\", _X_test.shape)\n",
    "\n",
    "    # train a Gaussian Naive Bayes classifier on the training set\n",
    "\n",
    "    # instantiate the model\n",
    "    _gnb = GaussianNB()\n",
    "\n",
    "    # fit the model\n",
    "    _gnb.fit(_X_train, _y_train)\n",
    "\n",
    "    _y_pred = _gnb.predict(_X_test)\n",
    "\n",
    "    _accuracy = accuracy_score(_y_test, _y_pred)\n",
    "    _confusion_matrix = confusion_matrix(_y_test, _y_pred)\n",
    "    return _accuracy, _confusion_matrix"
   ],
   "metadata": {
    "collapsed": false
   }
  },
  {
   "cell_type": "code",
   "execution_count": 31,
   "outputs": [
    {
     "data": {
      "text/plain": "((284, 9), (284,))"
     },
     "execution_count": 31,
     "metadata": {},
     "output_type": "execute_result"
    }
   ],
   "source": [
    "# SMOTE Pre-processing\n",
    "sm = SMOTE()\n",
    "X_train, _, y_train, _ = split(_df=numeric_df, _column='target')\n",
    "X_res, y_res = sm.fit_resample(X_train, y_train)\n",
    "X_res.shape, y_res.shape"
   ],
   "metadata": {
    "collapsed": false
   }
  },
  {
   "cell_type": "code",
   "execution_count": 32,
   "outputs": [
    {
     "data": {
      "text/plain": "   target  age  menopause  tumor_size  inv_nodes  node_caps  degree_of_malign  \\\n0       1    1          0           4          2          1                 3   \n1       1    1          0           0          4          1                 3   \n2       0    3          1           6          0          0                 1   \n3       0    3          1           2          0          0                 2   \n4       1    0          0           0          0          0                 1   \n\n   breast  breast_quadrant  irradiation  \n0       1                2            0  \n1       0                0            0  \n2       1                2            0  \n3       1                0            0  \n4       1                2            0  ",
      "text/html": "<div>\n<style scoped>\n    .dataframe tbody tr th:only-of-type {\n        vertical-align: middle;\n    }\n\n    .dataframe tbody tr th {\n        vertical-align: top;\n    }\n\n    .dataframe thead th {\n        text-align: right;\n    }\n</style>\n<table border=\"1\" class=\"dataframe\">\n  <thead>\n    <tr style=\"text-align: right;\">\n      <th></th>\n      <th>target</th>\n      <th>age</th>\n      <th>menopause</th>\n      <th>tumor_size</th>\n      <th>inv_nodes</th>\n      <th>node_caps</th>\n      <th>degree_of_malign</th>\n      <th>breast</th>\n      <th>breast_quadrant</th>\n      <th>irradiation</th>\n    </tr>\n  </thead>\n  <tbody>\n    <tr>\n      <th>0</th>\n      <td>1</td>\n      <td>1</td>\n      <td>0</td>\n      <td>4</td>\n      <td>2</td>\n      <td>1</td>\n      <td>3</td>\n      <td>1</td>\n      <td>2</td>\n      <td>0</td>\n    </tr>\n    <tr>\n      <th>1</th>\n      <td>1</td>\n      <td>1</td>\n      <td>0</td>\n      <td>0</td>\n      <td>4</td>\n      <td>1</td>\n      <td>3</td>\n      <td>0</td>\n      <td>0</td>\n      <td>0</td>\n    </tr>\n    <tr>\n      <th>2</th>\n      <td>0</td>\n      <td>3</td>\n      <td>1</td>\n      <td>6</td>\n      <td>0</td>\n      <td>0</td>\n      <td>1</td>\n      <td>1</td>\n      <td>2</td>\n      <td>0</td>\n    </tr>\n    <tr>\n      <th>3</th>\n      <td>0</td>\n      <td>3</td>\n      <td>1</td>\n      <td>2</td>\n      <td>0</td>\n      <td>0</td>\n      <td>2</td>\n      <td>1</td>\n      <td>0</td>\n      <td>0</td>\n    </tr>\n    <tr>\n      <th>4</th>\n      <td>1</td>\n      <td>0</td>\n      <td>0</td>\n      <td>0</td>\n      <td>0</td>\n      <td>0</td>\n      <td>1</td>\n      <td>1</td>\n      <td>2</td>\n      <td>0</td>\n    </tr>\n  </tbody>\n</table>\n</div>"
     },
     "execution_count": 32,
     "metadata": {},
     "output_type": "execute_result"
    }
   ],
   "source": [
    "    # Panda Series to Dataframe\n",
    "y_smote = y_res.to_frame(name='target')\n",
    "\n",
    "# Concatenating both dataframes\n",
    "X_smote = X_res\n",
    "df_smote = pandas.concat([y_smote, X_smote], axis=1)\n",
    "\n",
    "df_smote.head()"
   ],
   "metadata": {
    "collapsed": false
   }
  },
  {
   "cell_type": "code",
   "execution_count": 33,
   "outputs": [
    {
     "data": {
      "text/plain": "<Figure size 640x480 with 1 Axes>",
      "image/png": "[encoded data removed]"
     },
     "metadata": {},
     "output_type": "display_data"
    }
   ],
   "source": [
    "# 0 : no recurrence events\n",
    "# 1 : recurrence events\n",
    "seaborn.countplot(x=\"target\", data=df_smote, palette=\"bwr\")\n",
    "pyplot.show()"
   ],
   "metadata": {
    "collapsed": false
   }
  },
  {
   "cell_type": "code",
   "execution_count": 34,
   "outputs": [
    {
     "name": "stdout",
     "output_type": "stream",
     "text": [
      "Model Naive Bayes + SMOTE \n",
      "\n",
      "Shapes:  x train (193, 9) ,  x test (84, 9)\n",
      "Model accuracy score: 0.6785714286 \n",
      "\n"
     ]
    }
   ],
   "source": [
    "mining_models = {\n",
    "    'Naive Bayes + SMOTE': df_smote\n",
    "}\n",
    "\n",
    "for model, dataset in mining_models.items():\n",
    "    print(\"Model\", model, '\\n')\n",
    "    acc, cm = naive_bayes(df_smote, 'target')\n",
    "    print('Model accuracy score: {0:0.10f}'.format(acc), '\\n')"
   ],
   "metadata": {
    "collapsed": false
   }
  },
  {
   "cell_type": "code",
   "execution_count": 44,
   "outputs": [
    {
     "data": {
      "text/plain": "   target    age menopause tumor_size inv_nodes node_caps  degree_of_malign  \\\n0       0  30-39   premeno      30-34       0-2        no                 3   \n1       0  40-49   premeno      20-24       0-2        no                 2   \n2       0  40-49   premeno      20-24       0-2        no                 2   \n3       0  60-69      ge40      15-19       0-2        no                 2   \n4       0  40-49   premeno        0-4       0-2        no                 2   \n\n  breast breast_quadrant irradiation  \n0   left        left_low          no  \n1  right        right_up          no  \n2   left        left_low          no  \n3  right         left_up          no  \n4  right       right_low          no  ",
      "text/html": "<div>\n<style scoped>\n    .dataframe tbody tr th:only-of-type {\n        vertical-align: middle;\n    }\n\n    .dataframe tbody tr th {\n        vertical-align: top;\n    }\n\n    .dataframe thead th {\n        text-align: right;\n    }\n</style>\n<table border=\"1\" class=\"dataframe\">\n  <thead>\n    <tr style=\"text-align: right;\">\n      <th></th>\n      <th>target</th>\n      <th>age</th>\n      <th>menopause</th>\n      <th>tumor_size</th>\n      <th>inv_nodes</th>\n      <th>node_caps</th>\n      <th>degree_of_malign</th>\n      <th>breast</th>\n      <th>breast_quadrant</th>\n      <th>irradiation</th>\n    </tr>\n  </thead>\n  <tbody>\n    <tr>\n      <th>0</th>\n      <td>0</td>\n      <td>30-39</td>\n      <td>premeno</td>\n      <td>30-34</td>\n      <td>0-2</td>\n      <td>no</td>\n      <td>3</td>\n      <td>left</td>\n      <td>left_low</td>\n      <td>no</td>\n    </tr>\n    <tr>\n      <th>1</th>\n      <td>0</td>\n      <td>40-49</td>\n      <td>premeno</td>\n      <td>20-24</td>\n      <td>0-2</td>\n      <td>no</td>\n      <td>2</td>\n      <td>right</td>\n      <td>right_up</td>\n      <td>no</td>\n    </tr>\n    <tr>\n      <th>2</th>\n      <td>0</td>\n      <td>40-49</td>\n      <td>premeno</td>\n      <td>20-24</td>\n      <td>0-2</td>\n      <td>no</td>\n      <td>2</td>\n      <td>left</td>\n      <td>left_low</td>\n      <td>no</td>\n    </tr>\n    <tr>\n      <th>3</th>\n      <td>0</td>\n      <td>60-69</td>\n      <td>ge40</td>\n      <td>15-19</td>\n      <td>0-2</td>\n      <td>no</td>\n      <td>2</td>\n      <td>right</td>\n      <td>left_up</td>\n      <td>no</td>\n    </tr>\n    <tr>\n      <th>4</th>\n      <td>0</td>\n      <td>40-49</td>\n      <td>premeno</td>\n      <td>0-4</td>\n      <td>0-2</td>\n      <td>no</td>\n      <td>2</td>\n      <td>right</td>\n      <td>right_low</td>\n      <td>no</td>\n    </tr>\n  </tbody>\n</table>\n</div>"
     },
     "execution_count": 44,
     "metadata": {},
     "output_type": "execute_result"
    }
   ],
   "source": [
    "# Create dataframe for ANN model\n",
    "modified_df = df.copy()\n",
    "uniques = modified_df['target'].unique()\n",
    "mapping = {value: index for index, value in enumerate(uniques)}\n",
    "modified_df['target'] = modified_df['target'].map(mapping)\n",
    "modified_df.head()"
   ],
   "metadata": {
    "collapsed": false
   }
  },
  {
   "cell_type": "code",
   "execution_count": 58,
   "outputs": [],
   "source": [
    "X = modified_df.drop(['target'], axis=1)\n",
    "y = modified_df['target']"
   ],
   "metadata": {
    "collapsed": false
   }
  },
  {
   "cell_type": "code",
   "execution_count": 59,
   "outputs": [
    {
     "name": "stderr",
     "output_type": "stream",
     "text": [
      "C:\\Users\\Isaias\\PycharmProjects\\data-mining\\venv\\lib\\site-packages\\sklearn\\utils\\validation.py:1858: FutureWarning: Feature names only support names that are all strings. Got feature names with dtypes: ['int', 'str']. An error will be raised in 1.2.\n",
      "  warnings.warn(\n",
      "C:\\Users\\Isaias\\PycharmProjects\\data-mining\\venv\\lib\\site-packages\\sklearn\\utils\\validation.py:1858: FutureWarning: Feature names only support names that are all strings. Got feature names with dtypes: ['int', 'str']. An error will be raised in 1.2.\n",
      "  warnings.warn(\n"
     ]
    },
    {
     "data": {
      "text/plain": "array([[1., 0., 0., ..., 0., 0., 1.],\n       [0., 1., 0., ..., 0., 1., 0.],\n       [0., 1., 0., ..., 0., 1., 0.],\n       ...,\n       [0., 0., 0., ..., 1., 0., 0.],\n       [0., 1., 0., ..., 0., 0., 1.],\n       [0., 0., 1., ..., 0., 0., 1.]])"
     },
     "execution_count": 59,
     "metadata": {},
     "output_type": "execute_result"
    }
   ],
   "source": [
    "from sklearn.preprocessing import LabelEncoder, OneHotEncoder\n",
    "\n",
    "encoder = LabelEncoder()\n",
    "indexes = [5, 7, 9]\n",
    "for index in indexes:\n",
    "    X.loc[:, index] = encoder.fit_transform(X.iloc[:, index])\n",
    "\n",
    "one_hot_encoder = OneHotEncoder(max_categories=1)\n",
    "X = one_hot_encoder.fit_transform(X).toarray()\n",
    "X = X[:, 1:]\n",
    "\n",
    "X.view()"
   ],
   "metadata": {
    "collapsed": false
   }
  },
  {
   "cell_type": "code",
   "execution_count": 60,
   "outputs": [],
   "source": [
    "X_train, X_test, y_train, y_test = train_test_split(X, y, test_size=0.3, random_state=0)"
   ],
   "metadata": {
    "collapsed": false
   }
  },
  {
   "cell_type": "code",
   "execution_count": 62,
   "outputs": [],
   "source": [
    "from sklearn.preprocessing import StandardScaler\n",
    "\n",
    "sc = StandardScaler()\n",
    "X_train = sc.fit_transform(X_train)\n",
    "X_test = sc.transform(X_test)"
   ],
   "metadata": {
    "collapsed": false
   }
  },
  {
   "cell_type": "code",
   "execution_count": 72,
   "outputs": [],
   "source": [
    "import keras\n",
    "from keras.models import Sequential\n",
    "from keras.layers import Dense\n",
    "\n",
    "classifier = Sequential()\n",
    "classifier.add(Dense(units=6, kernel_initializer='uniform', activation='relu', input_dim=51))\n",
    "classifier.add(Dense(units=6, kernel_initializer='uniform', activation='relu', input_dim=51))\n",
    "classifier.add(Dense(units=1, kernel_initializer='uniform', activation='sigmoid'))"
   ],
   "metadata": {
    "collapsed": false
   }
  },
  {
   "cell_type": "code",
   "execution_count": 73,
   "outputs": [
    {
     "name": "stdout",
     "output_type": "stream",
     "text": [
      "Epoch 1/100\n",
      "20/20 [==============================] - 2s 4ms/step - loss: 0.6905 - accuracy: 0.7358\n",
      "Epoch 2/100\n",
      "20/20 [==============================] - 0s 3ms/step - loss: 0.6837 - accuracy: 0.7358\n",
      "Epoch 3/100\n",
      "20/20 [==============================] - 0s 3ms/step - loss: 0.6734 - accuracy: 0.7358\n",
      "Epoch 4/100\n",
      "20/20 [==============================] - 0s 3ms/step - loss: 0.6549 - accuracy: 0.7358\n",
      "Epoch 5/100\n",
      "20/20 [==============================] - 0s 3ms/step - loss: 0.6245 - accuracy: 0.7358\n",
      "Epoch 6/100\n",
      "20/20 [==============================] - 0s 3ms/step - loss: 0.5842 - accuracy: 0.7358\n",
      "Epoch 7/100\n",
      "20/20 [==============================] - 0s 3ms/step - loss: 0.5373 - accuracy: 0.7358\n",
      "Epoch 8/100\n",
      "20/20 [==============================] - 0s 3ms/step - loss: 0.4946 - accuracy: 0.7358\n",
      "Epoch 9/100\n",
      "20/20 [==============================] - 0s 2ms/step - loss: 0.4663 - accuracy: 0.7358\n",
      "Epoch 10/100\n",
      "20/20 [==============================] - 0s 3ms/step - loss: 0.4477 - accuracy: 0.7358\n",
      "Epoch 11/100\n",
      "20/20 [==============================] - 0s 3ms/step - loss: 0.4343 - accuracy: 0.7358\n",
      "Epoch 12/100\n",
      "20/20 [==============================] - 0s 3ms/step - loss: 0.4229 - accuracy: 0.7358\n",
      "Epoch 13/100\n",
      "20/20 [==============================] - 0s 3ms/step - loss: 0.4143 - accuracy: 0.7358\n",
      "Epoch 14/100\n",
      "20/20 [==============================] - 0s 3ms/step - loss: 0.4065 - accuracy: 0.7358\n",
      "Epoch 15/100\n",
      "20/20 [==============================] - 0s 3ms/step - loss: 0.3995 - accuracy: 0.7358\n",
      "Epoch 16/100\n",
      "20/20 [==============================] - 0s 3ms/step - loss: 0.3910 - accuracy: 0.7358\n",
      "Epoch 17/100\n",
      "20/20 [==============================] - 0s 3ms/step - loss: 0.3841 - accuracy: 0.7358\n",
      "Epoch 18/100\n",
      "20/20 [==============================] - 0s 3ms/step - loss: 0.3784 - accuracy: 0.7358\n",
      "Epoch 19/100\n",
      "20/20 [==============================] - 0s 3ms/step - loss: 0.3722 - accuracy: 0.7358\n",
      "Epoch 20/100\n",
      "20/20 [==============================] - 0s 3ms/step - loss: 0.3668 - accuracy: 0.7358\n",
      "Epoch 21/100\n",
      "20/20 [==============================] - 0s 3ms/step - loss: 0.3600 - accuracy: 0.7358\n",
      "Epoch 22/100\n",
      "20/20 [==============================] - 0s 3ms/step - loss: 0.3544 - accuracy: 0.7358\n",
      "Epoch 23/100\n",
      "20/20 [==============================] - 0s 3ms/step - loss: 0.3496 - accuracy: 0.7358\n",
      "Epoch 24/100\n",
      "20/20 [==============================] - 0s 3ms/step - loss: 0.3443 - accuracy: 0.7358\n",
      "Epoch 25/100\n",
      "20/20 [==============================] - 0s 3ms/step - loss: 0.3389 - accuracy: 0.7358\n",
      "Epoch 26/100\n",
      "20/20 [==============================] - 0s 3ms/step - loss: 0.3355 - accuracy: 0.7358\n",
      "Epoch 27/100\n",
      "20/20 [==============================] - 0s 3ms/step - loss: 0.3308 - accuracy: 0.7358\n",
      "Epoch 28/100\n",
      "20/20 [==============================] - 0s 3ms/step - loss: 0.3265 - accuracy: 0.8497\n",
      "Epoch 29/100\n",
      "20/20 [==============================] - 0s 3ms/step - loss: 0.3227 - accuracy: 0.8549\n",
      "Epoch 30/100\n",
      "20/20 [==============================] - 0s 3ms/step - loss: 0.3186 - accuracy: 0.8756\n",
      "Epoch 31/100\n",
      "20/20 [==============================] - 0s 3ms/step - loss: 0.3148 - accuracy: 0.8808\n",
      "Epoch 32/100\n",
      "20/20 [==============================] - 0s 3ms/step - loss: 0.3112 - accuracy: 0.8653\n",
      "Epoch 33/100\n",
      "20/20 [==============================] - 0s 3ms/step - loss: 0.3080 - accuracy: 0.8808\n",
      "Epoch 34/100\n",
      "20/20 [==============================] - 0s 3ms/step - loss: 0.3043 - accuracy: 0.8756\n",
      "Epoch 35/100\n",
      "20/20 [==============================] - 0s 3ms/step - loss: 0.3014 - accuracy: 0.8808\n",
      "Epoch 36/100\n",
      "20/20 [==============================] - 0s 3ms/step - loss: 0.2979 - accuracy: 0.8653\n",
      "Epoch 37/100\n",
      "20/20 [==============================] - 0s 3ms/step - loss: 0.2947 - accuracy: 0.8964\n",
      "Epoch 38/100\n",
      "20/20 [==============================] - 0s 3ms/step - loss: 0.2901 - accuracy: 0.9016\n",
      "Epoch 39/100\n",
      "20/20 [==============================] - 0s 2ms/step - loss: 0.2865 - accuracy: 0.8912\n",
      "Epoch 40/100\n",
      "20/20 [==============================] - 0s 3ms/step - loss: 0.2827 - accuracy: 0.9016\n",
      "Epoch 41/100\n",
      "20/20 [==============================] - 0s 3ms/step - loss: 0.2791 - accuracy: 0.9016\n",
      "Epoch 42/100\n",
      "20/20 [==============================] - 0s 3ms/step - loss: 0.2768 - accuracy: 0.9016\n",
      "Epoch 43/100\n",
      "20/20 [==============================] - 0s 3ms/step - loss: 0.2729 - accuracy: 0.9016\n",
      "Epoch 44/100\n",
      "20/20 [==============================] - 0s 3ms/step - loss: 0.2698 - accuracy: 0.9119\n",
      "Epoch 45/100\n",
      "20/20 [==============================] - 0s 3ms/step - loss: 0.2669 - accuracy: 0.9171\n",
      "Epoch 46/100\n",
      "20/20 [==============================] - 0s 2ms/step - loss: 0.2645 - accuracy: 0.9119\n",
      "Epoch 47/100\n",
      "20/20 [==============================] - 0s 3ms/step - loss: 0.2622 - accuracy: 0.9171\n",
      "Epoch 48/100\n",
      "20/20 [==============================] - 0s 3ms/step - loss: 0.2585 - accuracy: 0.9275\n",
      "Epoch 49/100\n",
      "20/20 [==============================] - 0s 2ms/step - loss: 0.2560 - accuracy: 0.9378\n",
      "Epoch 50/100\n",
      "20/20 [==============================] - 0s 2ms/step - loss: 0.2523 - accuracy: 0.9378\n",
      "Epoch 51/100\n",
      "20/20 [==============================] - 0s 3ms/step - loss: 0.2495 - accuracy: 0.9326\n",
      "Epoch 52/100\n",
      "20/20 [==============================] - 0s 3ms/step - loss: 0.2464 - accuracy: 0.9326\n",
      "Epoch 53/100\n",
      "20/20 [==============================] - 0s 3ms/step - loss: 0.2445 - accuracy: 0.9378\n",
      "Epoch 54/100\n",
      "20/20 [==============================] - 0s 3ms/step - loss: 0.2410 - accuracy: 0.9430\n",
      "Epoch 55/100\n",
      "20/20 [==============================] - 0s 3ms/step - loss: 0.2384 - accuracy: 0.9430\n",
      "Epoch 56/100\n",
      "20/20 [==============================] - 0s 3ms/step - loss: 0.2362 - accuracy: 0.9378\n",
      "Epoch 57/100\n",
      "20/20 [==============================] - 0s 3ms/step - loss: 0.2331 - accuracy: 0.9430\n",
      "Epoch 58/100\n",
      "20/20 [==============================] - 0s 4ms/step - loss: 0.2310 - accuracy: 0.9430\n",
      "Epoch 59/100\n",
      "20/20 [==============================] - 0s 3ms/step - loss: 0.2284 - accuracy: 0.9430\n",
      "Epoch 60/100\n",
      "20/20 [==============================] - 0s 3ms/step - loss: 0.2262 - accuracy: 0.9430\n",
      "Epoch 61/100\n",
      "20/20 [==============================] - 0s 3ms/step - loss: 0.2234 - accuracy: 0.9430\n",
      "Epoch 62/100\n",
      "20/20 [==============================] - 0s 3ms/step - loss: 0.2211 - accuracy: 0.9430\n",
      "Epoch 63/100\n",
      "20/20 [==============================] - 0s 3ms/step - loss: 0.2189 - accuracy: 0.9430\n",
      "Epoch 64/100\n",
      "20/20 [==============================] - 0s 3ms/step - loss: 0.2169 - accuracy: 0.9430\n",
      "Epoch 65/100\n",
      "20/20 [==============================] - 0s 3ms/step - loss: 0.2140 - accuracy: 0.9430\n",
      "Epoch 66/100\n",
      "20/20 [==============================] - 0s 3ms/step - loss: 0.2122 - accuracy: 0.9430\n",
      "Epoch 67/100\n",
      "20/20 [==============================] - 0s 3ms/step - loss: 0.2094 - accuracy: 0.9430\n",
      "Epoch 68/100\n",
      "20/20 [==============================] - 0s 3ms/step - loss: 0.2071 - accuracy: 0.9430\n",
      "Epoch 69/100\n",
      "20/20 [==============================] - 0s 2ms/step - loss: 0.2038 - accuracy: 0.9482\n",
      "Epoch 70/100\n",
      "20/20 [==============================] - 0s 2ms/step - loss: 0.2014 - accuracy: 0.9482\n",
      "Epoch 71/100\n",
      "20/20 [==============================] - 0s 3ms/step - loss: 0.2000 - accuracy: 0.9585\n",
      "Epoch 72/100\n",
      "20/20 [==============================] - 0s 3ms/step - loss: 0.1973 - accuracy: 0.9534\n",
      "Epoch 73/100\n",
      "20/20 [==============================] - 0s 2ms/step - loss: 0.1951 - accuracy: 0.9534\n",
      "Epoch 74/100\n",
      "20/20 [==============================] - 0s 3ms/step - loss: 0.1915 - accuracy: 0.9534\n",
      "Epoch 75/100\n",
      "20/20 [==============================] - 0s 3ms/step - loss: 0.1891 - accuracy: 0.9534\n",
      "Epoch 76/100\n",
      "20/20 [==============================] - 0s 3ms/step - loss: 0.1870 - accuracy: 0.9534\n",
      "Epoch 77/100\n",
      "20/20 [==============================] - 0s 3ms/step - loss: 0.1849 - accuracy: 0.9534\n",
      "Epoch 78/100\n",
      "20/20 [==============================] - 0s 3ms/step - loss: 0.1825 - accuracy: 0.9585\n",
      "Epoch 79/100\n",
      "20/20 [==============================] - 0s 3ms/step - loss: 0.1808 - accuracy: 0.9637\n",
      "Epoch 80/100\n",
      "20/20 [==============================] - 0s 2ms/step - loss: 0.1785 - accuracy: 0.9637\n",
      "Epoch 81/100\n",
      "20/20 [==============================] - 0s 3ms/step - loss: 0.1765 - accuracy: 0.9585\n",
      "Epoch 82/100\n",
      "20/20 [==============================] - 0s 3ms/step - loss: 0.1739 - accuracy: 0.9585\n",
      "Epoch 83/100\n",
      "20/20 [==============================] - 0s 2ms/step - loss: 0.1723 - accuracy: 0.9637\n",
      "Epoch 84/100\n",
      "20/20 [==============================] - 0s 3ms/step - loss: 0.1704 - accuracy: 0.9637\n",
      "Epoch 85/100\n",
      "20/20 [==============================] - 0s 3ms/step - loss: 0.1682 - accuracy: 0.9585\n",
      "Epoch 86/100\n",
      "20/20 [==============================] - 0s 3ms/step - loss: 0.1663 - accuracy: 0.9637\n",
      "Epoch 87/100\n",
      "20/20 [==============================] - 0s 2ms/step - loss: 0.1646 - accuracy: 0.9637\n",
      "Epoch 88/100\n",
      "20/20 [==============================] - 0s 3ms/step - loss: 0.1630 - accuracy: 0.9637\n",
      "Epoch 89/100\n",
      "20/20 [==============================] - 0s 3ms/step - loss: 0.1612 - accuracy: 0.9637\n",
      "Epoch 90/100\n",
      "20/20 [==============================] - 0s 3ms/step - loss: 0.1596 - accuracy: 0.9637\n",
      "Epoch 91/100\n",
      "20/20 [==============================] - 0s 3ms/step - loss: 0.1581 - accuracy: 0.9637\n",
      "Epoch 92/100\n",
      "20/20 [==============================] - 0s 3ms/step - loss: 0.1560 - accuracy: 0.9637\n",
      "Epoch 93/100\n",
      "20/20 [==============================] - 0s 3ms/step - loss: 0.1562 - accuracy: 0.9689\n",
      "Epoch 94/100\n",
      "20/20 [==============================] - 0s 3ms/step - loss: 0.1540 - accuracy: 0.9741\n",
      "Epoch 95/100\n",
      "20/20 [==============================] - 0s 3ms/step - loss: 0.1527 - accuracy: 0.9741\n",
      "Epoch 96/100\n",
      "20/20 [==============================] - 0s 3ms/step - loss: 0.1517 - accuracy: 0.9689\n",
      "Epoch 97/100\n",
      "20/20 [==============================] - 0s 3ms/step - loss: 0.1502 - accuracy: 0.9741\n",
      "Epoch 98/100\n",
      "20/20 [==============================] - 0s 3ms/step - loss: 0.1492 - accuracy: 0.9741\n",
      "Epoch 99/100\n",
      "20/20 [==============================] - 0s 3ms/step - loss: 0.1483 - accuracy: 0.9741\n",
      "Epoch 100/100\n",
      "20/20 [==============================] - 0s 3ms/step - loss: 0.1456 - accuracy: 0.9741\n"
     ]
    },
    {
     "data": {
      "text/plain": "<keras.callbacks.History at 0x1c0a7a0ba30>"
     },
     "execution_count": 73,
     "metadata": {},
     "output_type": "execute_result"
    }
   ],
   "source": [
    "classifier.compile(optimizer='adam', loss='binary_crossentropy', metrics=['accuracy'])\n",
    "classifier.fit(X_train, y_train, batch_size=10, epochs=100)"
   ],
   "metadata": {
    "collapsed": false
   }
  },
  {
   "cell_type": "code",
   "execution_count": 74,
   "outputs": [
    {
     "name": "stdout",
     "output_type": "stream",
     "text": [
      "3/3 [==============================] - 0s 3ms/step\n"
     ]
    }
   ],
   "source": [
    "y_pred = classifier.predict(X_test)\n",
    "y_pred = (y_pred > 0.5)"
   ],
   "metadata": {
    "collapsed": false
   }
  },
  {
   "cell_type": "code",
   "execution_count": 75,
   "outputs": [
    {
     "name": "stdout",
     "output_type": "stream",
     "text": [
      "[[48  6]\n",
      " [18 12]]\n"
     ]
    },
    {
     "data": {
      "text/plain": "0.7142857142857143"
     },
     "execution_count": 75,
     "metadata": {},
     "output_type": "execute_result"
    }
   ],
   "source": [
    "from sklearn.metrics import confusion_matrix, accuracy_score\n",
    "\n",
    "cm = confusion_matrix(y_test, y_pred)\n",
    "print(cm)\n",
    "accuracy_score(y_test, y_pred)"
   ],
   "metadata": {
    "collapsed": false
   }
  },
  {
   "cell_type": "code",
   "execution_count": null,
   "outputs": [],
   "source": [],
   "metadata": {
    "collapsed": false
   }
  }
 ],
 "metadata": {
  "kernelspec": {
   "display_name": "Python 3",
   "language": "python",
   "name": "python3"
  },
  "language_info": {
   "codemirror_mode": {
    "name": "ipython",
    "version": 2
   },
   "file_extension": ".py",
   "mimetype": "text/x-python",
   "name": "python",
   "nbconvert_exporter": "python",
   "pygments_lexer": "ipython2",
   "version": "2.7.6"
  }
 },
 "nbformat": 4,
 "nbformat_minor": 0
}
